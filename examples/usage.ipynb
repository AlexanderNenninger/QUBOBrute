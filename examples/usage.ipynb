{
 "cells": [
  {
   "cell_type": "code",
   "execution_count": 4,
   "metadata": {},
   "outputs": [],
   "source": [
    "import sys\n",
    "sys.path.append('../')\n",
    "\n",
    "import numpy as np\n",
    "from pyqubo import Array\n",
    "from qubobrute import *\n",
    "\n",
    "\n",
    "from numba import cuda\n",
    "\n",
    "cuda.is_available()\n",
    "\n"
   ]
  },
  {
   "cell_type": "code",
   "execution_count": 2,
   "metadata": {},
   "outputs": [],
   "source": [
    "def qubo_energy(qubo: np.ndarray, offset: np.number, sample: np.ndarray) -> np.number:\n",
    "    \"\"\"Calculate the energy of a sample.\"\"\"\n",
    "    return np.dot(sample, np.dot(qubo, sample)) + offset"
   ]
  },
  {
   "cell_type": "markdown",
   "metadata": {},
   "source": [
    "## Setup Small Problem"
   ]
  },
  {
   "cell_type": "code",
   "execution_count": 11,
   "metadata": {},
   "outputs": [],
   "source": [
    "nbits = 25\n",
    "x = Array.create(\"x\", shape=(nbits,), vartype=\"BINARY\")\n",
    "H = (np.arange(nbits) @ x - 12) ** 2\n",
    "model = H.compile()\n",
    "qubo, offset = model.to_qubo(index_label=True)\n",
    "q = to_mat(qubo)"
   ]
  },
  {
   "cell_type": "markdown",
   "metadata": {},
   "source": [
    "## Bruteforce Solution on GPU"
   ]
  },
  {
   "cell_type": "code",
   "execution_count": 4,
   "metadata": {},
   "outputs": [
    {
     "data": {
      "text/plain": [
       "(0.0,\n",
       " array([0., 1., 1., 0., 1., 1., 0., 0., 0., 0., 0., 0., 0., 0., 0., 0., 0.,\n",
       "        0., 0., 0., 0., 0., 0., 0., 0.], dtype=float32))"
      ]
     },
     "execution_count": 4,
     "metadata": {},
     "output_type": "execute_result"
    }
   ],
   "source": [
    "energies = solve_gpu(q, offset)\n",
    "best = bits(energies.argmin(), nbits=nbits)\n",
    "qubo_energy(q, offset, sample=best), best"
   ]
  },
  {
   "cell_type": "markdown",
   "metadata": {},
   "source": [
    "## Run Simulated Annealing on the CPU"
   ]
  },
  {
   "cell_type": "code",
   "execution_count": 9,
   "metadata": {},
   "outputs": [
    {
     "data": {
      "text/plain": [
       "(0.0,\n",
       " array([0, 1, 0, 1, 0, 0, 0, 0, 1, 0, 0, 0, 0, 0, 0, 0, 0, 0, 0, 0, 0, 0,\n",
       "        0, 0, 1], dtype=int8))"
      ]
     },
     "execution_count": 9,
     "metadata": {},
     "output_type": "execute_result"
    }
   ],
   "source": [
    "energies, solutions = simulate_annealing(q, offset, n_iter=1000, n_samples=100_000, temperature=1.0, cooling_rate=0.99)\n",
    "\n",
    "best = solutions[energies.argmin()]\n",
    "energies.min(), best"
   ]
  },
  {
   "cell_type": "markdown",
   "metadata": {},
   "source": [
    "## Run Simulated Annealing on the GPU"
   ]
  },
  {
   "cell_type": "code",
   "execution_count": 10,
   "metadata": {},
   "outputs": [
    {
     "data": {
      "text/plain": [
       "(0.0,\n",
       " array([1., 1., 0., 0., 0., 1., 1., 0., 0., 0., 0., 0., 0., 0., 0., 0., 0.,\n",
       "        0., 0., 0., 0., 0., 0., 0., 0.], dtype=float32))"
      ]
     },
     "execution_count": 10,
     "metadata": {},
     "output_type": "execute_result"
    }
   ],
   "source": [
    "energies, solutions = simulate_annealing_gpu(q, offset, n_iter=1000, n_samples=100_000, temperature=1.0, cooling_rate=0.99)\n",
    "\n",
    "best = solutions[energies.argmin()]\n",
    "energies.min(), best"
   ]
  },
  {
   "cell_type": "code",
   "execution_count": null,
   "metadata": {},
   "outputs": [],
   "source": []
  }
 ],
 "metadata": {
  "interpreter": {
   "hash": "7629da0db89c3cd586d6709d6970403da966113e7524ce7e74d31ea062f5def2"
  },
  "kernelspec": {
   "display_name": "Python 3.10.2 ('qubobrute')",
   "language": "python",
   "name": "python3"
  },
  "language_info": {
   "codemirror_mode": {
    "name": "ipython",
    "version": 3
   },
   "file_extension": ".py",
   "mimetype": "text/x-python",
   "name": "python",
   "nbconvert_exporter": "python",
   "pygments_lexer": "ipython3",
   "version": "3.10.2"
  },
  "orig_nbformat": 4
 },
 "nbformat": 4,
 "nbformat_minor": 2
}
